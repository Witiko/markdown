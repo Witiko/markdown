{
  "cells": [
    {
      "cell_type": "markdown",
      "id": "d0658fcf-ef0e-43ea-8bfa-c319ecda53ba",
      "metadata": {
        "id": "d0658fcf-ef0e-43ea-8bfa-c319ecda53ba"
      },
      "source": [
        "# Measure the speed of tests with different numbers of processes and batch sizes\n",
        "\n",
        "This Jupyter notebook measures the speed of tests with different numbers of processes and batch sizes."
      ]
    },
    {
      "cell_type": "markdown",
      "id": "49199d19-aad1-432b-bb64-9116efc415d2",
      "metadata": {
        "id": "49199d19-aad1-432b-bb64-9116efc415d2"
      },
      "source": [
        "## Experiment\n",
        "\n",
        "In our experiment, we test 783 testfiles with the Markdown package for TeX at Git commit [`7613632`][1]. We test all combinations of the following parameters:\n",
        "\n",
        "- Number of processes: 1, 2, 4, 8, 16, and 32\n",
        "- Batch size: 1, 2, 4, 8, 16, 32, 64, 128, 256, 512, and 1024\n",
        "\n",
        "We measure the wall time for every set of parameters. To determine the median and confidence intervals, we repeat the test five times for every set of parameters.\n",
        "\n",
        "By default, the test framework reduces the batch size with a large number of processes to ensure that all processes have batches to run. This minimizes wall time at the expense of CPU time. To see how the batch size cannibalizes off of the number of processes, we disabled the batch size limiting in our tests.\n",
        "\n",
        "We used a machine with 80 Intel(R) Xeon(R) Gold 6230 CPUs clocked at 2.10 GHz and 400 GB RAM.\n",
        "\n",
        "``` sh\n",
        "./speed-tests.sh\n",
        "```\n",
        "\n",
        " [1]: https://github.com/Witiko/markdown/commit/76136326e21f37084b6393bfc4efc17a1af4f377"
      ]
    },
    {
      "cell_type": "code",
      "execution_count": 1,
      "id": "994645a4-9871-4140-921d-32955506f617",
      "metadata": {
        "colab": {
          "base_uri": "https://localhost:8080/"
        },
        "id": "994645a4-9871-4140-921d-32955506f617",
        "outputId": "44b0163a-8298-4ff5-ef55-c4d48009d5b3"
      },
      "outputs": [
        {
          "output_type": "stream",
          "name": "stdout",
          "text": [
            "The experiment ran for 33 days.\n"
          ]
        }
      ],
      "source": [
        "! LC_ALL=C printf \"The experiment ran for %.0f days.\\n\" \"$(awk '{ print $7, $4 }' speed-tests.joblog | grep '^0 ' | awk '{ sum += $2 } END { print sum / 86400 }')\""
      ]
    },
    {
      "cell_type": "markdown",
      "id": "c8a27e57-f9a7-47ef-b8d6-7665d8e27d14",
      "metadata": {
        "id": "c8a27e57-f9a7-47ef-b8d6-7665d8e27d14"
      },
      "source": [
        "## Results\n",
        "\n",
        "In this section, we discuss the results of the experiment."
      ]
    },
    {
      "cell_type": "code",
      "execution_count": 2,
      "id": "2dcf395e-a761-4208-9ad1-669217ca47c9",
      "metadata": {
        "id": "2dcf395e-a761-4208-9ad1-669217ca47c9"
      },
      "outputs": [],
      "source": [
        "from pathlib import Path\n",
        "import re"
      ]
    },
    {
      "cell_type": "code",
      "execution_count": 3,
      "id": "27b98ecb-fc35-4c84-94b2-4ff7f4b133c9",
      "metadata": {
        "id": "27b98ecb-fc35-4c84-94b2-4ff7f4b133c9"
      },
      "outputs": [],
      "source": [
        "number_of_samples = 5\n",
        "results = {}\n",
        "for path in Path('.').glob('speed-test-num_processes=*-batch_size=*.txt'):\n",
        "\n",
        "    # Determine the parameters from the filename.\n",
        "    match = re.match(r'speed-test-num_processes=(?P<num_processes>\\d+)-batch_size=(?P<batch_size>\\d+)\\.txt', path.name)\n",
        "    assert match is not None\n",
        "    num_processes = match.group('num_processes')\n",
        "    batch_size = match.group('batch_size')\n",
        "\n",
        "    # Determine the wall times from the file contents.\n",
        "    wall_times = []\n",
        "    wall_times_maybe_corrupt = []\n",
        "    assume_corrupt_output = False\n",
        "    with path.open('rt') as f:\n",
        "        for line in f:\n",
        "            # If the test was killed by the OOM killer, we may or may not have recorded this test's wall time.\n",
        "            if line.startswith('Command exited with non-zero status 137'):\n",
        "                assume_corrupt_output = True\n",
        "                continue\n",
        "            match = re.search(r'system ((?P<hours>\\d+):)?(?P<minutes>\\d+):(?P<seconds>\\d+(\\.\\d+)?)', line)\n",
        "            if match is None:\n",
        "                continue\n",
        "            hours = match.group('hours')\n",
        "            hours = 0 if hours is None else int(hours)\n",
        "            minutes = int(match.group('minutes'))\n",
        "            seconds = float(match.group('seconds'))\n",
        "            total_seconds = hours * 3600 + minutes * 60 + seconds\n",
        "            if assume_corrupt_output:\n",
        "                wall_times_maybe_corrupt.append(total_seconds)\n",
        "                assume_corrupt_output = False\n",
        "            else:\n",
        "                wall_times.append(total_seconds)\n",
        "\n",
        "    # If we have fewer-than-expected wall times and some test was killed by the OOM killer, we assume we have not\n",
        "    # recorded the test's wall time and we add the wall times we assumed may have originated from the killed test\n",
        "    # to the set of wall times.\n",
        "    assert len(wall_times) <= number_of_samples, (len(wall_times), path)\n",
        "    if len(wall_times) < number_of_samples:\n",
        "        wall_times += wall_times_maybe_corrupt\n",
        "    assert len(wall_times) == number_of_samples\n",
        "\n",
        "    results[num_processes, batch_size] = wall_times"
      ]
    },
    {
      "cell_type": "markdown",
      "id": "cd7c2d1d-10cd-4960-b8dc-a263ce424b78",
      "metadata": {
        "id": "cd7c2d1d-10cd-4960-b8dc-a263ce424b78"
      },
      "source": [
        "First, we will display the median times for every set of parameters as a table:"
      ]
    },
    {
      "cell_type": "code",
      "execution_count": 4,
      "id": "fc1ff2cd-36c2-43da-9be2-444e76b0f259",
      "metadata": {
        "id": "fc1ff2cd-36c2-43da-9be2-444e76b0f259"
      },
      "outputs": [],
      "source": [
        "%%capture\n",
        "! pip install pandas"
      ]
    },
    {
      "cell_type": "code",
      "execution_count": 5,
      "id": "cf51d1c1-2ced-4b45-a19e-7fe11713c6e0",
      "metadata": {
        "id": "cf51d1c1-2ced-4b45-a19e-7fe11713c6e0"
      },
      "outputs": [],
      "source": [
        "import pandas as pd\n",
        "from IPython.display import display"
      ]
    },
    {
      "cell_type": "code",
      "execution_count": 6,
      "id": "22c6b687-e080-4c87-b6c9-f91002ea6670",
      "metadata": {
        "colab": {
          "base_uri": "https://localhost:8080/",
          "height": 393
        },
        "id": "22c6b687-e080-4c87-b6c9-f91002ea6670",
        "outputId": "d5fce0a8-237c-44c9-c227-7c11197b36cf"
      },
      "outputs": [
        {
          "output_type": "display_data",
          "data": {
            "text/plain": [
              "batch_size                  1                      2                      4  \\\n",
              "num_processes                                                                 \n",
              "1             1 days 03:01:36        0 days 15:47:00        0 days 07:21:05   \n",
              "2             0 days 12:28:26        0 days 07:03:00        0 days 04:20:28   \n",
              "4             0 days 06:30:01        0 days 03:27:27        0 days 01:50:58   \n",
              "8             0 days 03:16:32        0 days 01:45:41 0 days 00:59:11.310000   \n",
              "16            0 days 01:47:16        0 days 01:01:28 0 days 00:37:02.370000   \n",
              "32            0 days 01:06:19 0 days 00:36:11.380000 0 days 00:21:41.030000   \n",
              "\n",
              "batch_size                         8                     16  \\\n",
              "num_processes                                                 \n",
              "1                    0 days 04:29:56        0 days 02:51:05   \n",
              "2                    0 days 02:25:56        0 days 01:26:32   \n",
              "4                    0 days 01:06:31 0 days 00:45:28.290000   \n",
              "8             0 days 00:36:30.090000 0 days 00:25:50.340000   \n",
              "16            0 days 00:27:29.960000 0 days 00:16:50.330000   \n",
              "32            0 days 00:14:56.110000 0 days 00:10:42.830000   \n",
              "\n",
              "batch_size                        32                     64  \\\n",
              "num_processes                                                 \n",
              "1                    0 days 02:02:55        0 days 01:39:30   \n",
              "2                    0 days 01:02:02 0 days 00:51:28.450000   \n",
              "4             0 days 00:34:13.610000 0 days 00:27:10.320000   \n",
              "8             0 days 00:19:46.660000 0 days 00:20:21.410000   \n",
              "16            0 days 00:14:10.950000 0 days 00:13:21.400000   \n",
              "32            0 days 00:10:03.580000 0 days 00:13:30.140000   \n",
              "\n",
              "batch_size                       128                    256  \\\n",
              "num_processes                                                 \n",
              "1                    0 days 01:29:12        0 days 01:23:21   \n",
              "2             0 days 00:45:53.540000 0 days 00:53:29.610000   \n",
              "4             0 days 00:32:52.160000 0 days 00:30:50.410000   \n",
              "8             0 days 00:21:14.590000 0 days 00:31:34.990000   \n",
              "16            0 days 00:21:20.090000 0 days 00:32:06.990000   \n",
              "32            0 days 00:21:33.880000 0 days 00:34:33.780000   \n",
              "\n",
              "batch_size                       512            1024  \n",
              "num_processes                                         \n",
              "1                    0 days 01:19:44 0 days 01:16:05  \n",
              "2             0 days 00:45:56.110000 0 days 01:15:20  \n",
              "4             0 days 00:44:23.040000 0 days 01:13:35  \n",
              "8             0 days 00:45:34.360000 0 days 01:14:01  \n",
              "16            0 days 00:45:20.870000 0 days 01:14:12  \n",
              "32            0 days 00:50:11.590000 0 days 01:24:15  "
            ],
            "text/html": [
              "\n",
              "  <div id=\"df-1a3d14a5-0129-4c74-bdef-4bb94284c92a\" class=\"colab-df-container\">\n",
              "    <div>\n",
              "<style scoped>\n",
              "    .dataframe tbody tr th:only-of-type {\n",
              "        vertical-align: middle;\n",
              "    }\n",
              "\n",
              "    .dataframe tbody tr th {\n",
              "        vertical-align: top;\n",
              "    }\n",
              "\n",
              "    .dataframe thead th {\n",
              "        text-align: right;\n",
              "    }\n",
              "</style>\n",
              "<table border=\"1\" class=\"dataframe\">\n",
              "  <thead>\n",
              "    <tr style=\"text-align: right;\">\n",
              "      <th>batch_size</th>\n",
              "      <th>1</th>\n",
              "      <th>2</th>\n",
              "      <th>4</th>\n",
              "      <th>8</th>\n",
              "      <th>16</th>\n",
              "      <th>32</th>\n",
              "      <th>64</th>\n",
              "      <th>128</th>\n",
              "      <th>256</th>\n",
              "      <th>512</th>\n",
              "      <th>1024</th>\n",
              "    </tr>\n",
              "    <tr>\n",
              "      <th>num_processes</th>\n",
              "      <th></th>\n",
              "      <th></th>\n",
              "      <th></th>\n",
              "      <th></th>\n",
              "      <th></th>\n",
              "      <th></th>\n",
              "      <th></th>\n",
              "      <th></th>\n",
              "      <th></th>\n",
              "      <th></th>\n",
              "      <th></th>\n",
              "    </tr>\n",
              "  </thead>\n",
              "  <tbody>\n",
              "    <tr>\n",
              "      <th>1</th>\n",
              "      <td>1 days 03:01:36</td>\n",
              "      <td>0 days 15:47:00</td>\n",
              "      <td>0 days 07:21:05</td>\n",
              "      <td>0 days 04:29:56</td>\n",
              "      <td>0 days 02:51:05</td>\n",
              "      <td>0 days 02:02:55</td>\n",
              "      <td>0 days 01:39:30</td>\n",
              "      <td>0 days 01:29:12</td>\n",
              "      <td>0 days 01:23:21</td>\n",
              "      <td>0 days 01:19:44</td>\n",
              "      <td>0 days 01:16:05</td>\n",
              "    </tr>\n",
              "    <tr>\n",
              "      <th>2</th>\n",
              "      <td>0 days 12:28:26</td>\n",
              "      <td>0 days 07:03:00</td>\n",
              "      <td>0 days 04:20:28</td>\n",
              "      <td>0 days 02:25:56</td>\n",
              "      <td>0 days 01:26:32</td>\n",
              "      <td>0 days 01:02:02</td>\n",
              "      <td>0 days 00:51:28.450000</td>\n",
              "      <td>0 days 00:45:53.540000</td>\n",
              "      <td>0 days 00:53:29.610000</td>\n",
              "      <td>0 days 00:45:56.110000</td>\n",
              "      <td>0 days 01:15:20</td>\n",
              "    </tr>\n",
              "    <tr>\n",
              "      <th>4</th>\n",
              "      <td>0 days 06:30:01</td>\n",
              "      <td>0 days 03:27:27</td>\n",
              "      <td>0 days 01:50:58</td>\n",
              "      <td>0 days 01:06:31</td>\n",
              "      <td>0 days 00:45:28.290000</td>\n",
              "      <td>0 days 00:34:13.610000</td>\n",
              "      <td>0 days 00:27:10.320000</td>\n",
              "      <td>0 days 00:32:52.160000</td>\n",
              "      <td>0 days 00:30:50.410000</td>\n",
              "      <td>0 days 00:44:23.040000</td>\n",
              "      <td>0 days 01:13:35</td>\n",
              "    </tr>\n",
              "    <tr>\n",
              "      <th>8</th>\n",
              "      <td>0 days 03:16:32</td>\n",
              "      <td>0 days 01:45:41</td>\n",
              "      <td>0 days 00:59:11.310000</td>\n",
              "      <td>0 days 00:36:30.090000</td>\n",
              "      <td>0 days 00:25:50.340000</td>\n",
              "      <td>0 days 00:19:46.660000</td>\n",
              "      <td>0 days 00:20:21.410000</td>\n",
              "      <td>0 days 00:21:14.590000</td>\n",
              "      <td>0 days 00:31:34.990000</td>\n",
              "      <td>0 days 00:45:34.360000</td>\n",
              "      <td>0 days 01:14:01</td>\n",
              "    </tr>\n",
              "    <tr>\n",
              "      <th>16</th>\n",
              "      <td>0 days 01:47:16</td>\n",
              "      <td>0 days 01:01:28</td>\n",
              "      <td>0 days 00:37:02.370000</td>\n",
              "      <td>0 days 00:27:29.960000</td>\n",
              "      <td>0 days 00:16:50.330000</td>\n",
              "      <td>0 days 00:14:10.950000</td>\n",
              "      <td>0 days 00:13:21.400000</td>\n",
              "      <td>0 days 00:21:20.090000</td>\n",
              "      <td>0 days 00:32:06.990000</td>\n",
              "      <td>0 days 00:45:20.870000</td>\n",
              "      <td>0 days 01:14:12</td>\n",
              "    </tr>\n",
              "    <tr>\n",
              "      <th>32</th>\n",
              "      <td>0 days 01:06:19</td>\n",
              "      <td>0 days 00:36:11.380000</td>\n",
              "      <td>0 days 00:21:41.030000</td>\n",
              "      <td>0 days 00:14:56.110000</td>\n",
              "      <td>0 days 00:10:42.830000</td>\n",
              "      <td>0 days 00:10:03.580000</td>\n",
              "      <td>0 days 00:13:30.140000</td>\n",
              "      <td>0 days 00:21:33.880000</td>\n",
              "      <td>0 days 00:34:33.780000</td>\n",
              "      <td>0 days 00:50:11.590000</td>\n",
              "      <td>0 days 01:24:15</td>\n",
              "    </tr>\n",
              "  </tbody>\n",
              "</table>\n",
              "</div>\n",
              "    <div class=\"colab-df-buttons\">\n",
              "\n",
              "  <div class=\"colab-df-container\">\n",
              "    <button class=\"colab-df-convert\" onclick=\"convertToInteractive('df-1a3d14a5-0129-4c74-bdef-4bb94284c92a')\"\n",
              "            title=\"Convert this dataframe to an interactive table.\"\n",
              "            style=\"display:none;\">\n",
              "\n",
              "  <svg xmlns=\"http://www.w3.org/2000/svg\" height=\"24px\" viewBox=\"0 -960 960 960\">\n",
              "    <path d=\"M120-120v-720h720v720H120Zm60-500h600v-160H180v160Zm220 220h160v-160H400v160Zm0 220h160v-160H400v160ZM180-400h160v-160H180v160Zm440 0h160v-160H620v160ZM180-180h160v-160H180v160Zm440 0h160v-160H620v160Z\"/>\n",
              "  </svg>\n",
              "    </button>\n",
              "\n",
              "  <style>\n",
              "    .colab-df-container {\n",
              "      display:flex;\n",
              "      gap: 12px;\n",
              "    }\n",
              "\n",
              "    .colab-df-convert {\n",
              "      background-color: #E8F0FE;\n",
              "      border: none;\n",
              "      border-radius: 50%;\n",
              "      cursor: pointer;\n",
              "      display: none;\n",
              "      fill: #1967D2;\n",
              "      height: 32px;\n",
              "      padding: 0 0 0 0;\n",
              "      width: 32px;\n",
              "    }\n",
              "\n",
              "    .colab-df-convert:hover {\n",
              "      background-color: #E2EBFA;\n",
              "      box-shadow: 0px 1px 2px rgba(60, 64, 67, 0.3), 0px 1px 3px 1px rgba(60, 64, 67, 0.15);\n",
              "      fill: #174EA6;\n",
              "    }\n",
              "\n",
              "    .colab-df-buttons div {\n",
              "      margin-bottom: 4px;\n",
              "    }\n",
              "\n",
              "    [theme=dark] .colab-df-convert {\n",
              "      background-color: #3B4455;\n",
              "      fill: #D2E3FC;\n",
              "    }\n",
              "\n",
              "    [theme=dark] .colab-df-convert:hover {\n",
              "      background-color: #434B5C;\n",
              "      box-shadow: 0px 1px 3px 1px rgba(0, 0, 0, 0.15);\n",
              "      filter: drop-shadow(0px 1px 2px rgba(0, 0, 0, 0.3));\n",
              "      fill: #FFFFFF;\n",
              "    }\n",
              "  </style>\n",
              "\n",
              "    <script>\n",
              "      const buttonEl =\n",
              "        document.querySelector('#df-1a3d14a5-0129-4c74-bdef-4bb94284c92a button.colab-df-convert');\n",
              "      buttonEl.style.display =\n",
              "        google.colab.kernel.accessAllowed ? 'block' : 'none';\n",
              "\n",
              "      async function convertToInteractive(key) {\n",
              "        const element = document.querySelector('#df-1a3d14a5-0129-4c74-bdef-4bb94284c92a');\n",
              "        const dataTable =\n",
              "          await google.colab.kernel.invokeFunction('convertToInteractive',\n",
              "                                                    [key], {});\n",
              "        if (!dataTable) return;\n",
              "\n",
              "        const docLinkHtml = 'Like what you see? Visit the ' +\n",
              "          '<a target=\"_blank\" href=https://colab.research.google.com/notebooks/data_table.ipynb>data table notebook</a>'\n",
              "          + ' to learn more about interactive tables.';\n",
              "        element.innerHTML = '';\n",
              "        dataTable['output_type'] = 'display_data';\n",
              "        await google.colab.output.renderOutput(dataTable, element);\n",
              "        const docLink = document.createElement('div');\n",
              "        docLink.innerHTML = docLinkHtml;\n",
              "        element.appendChild(docLink);\n",
              "      }\n",
              "    </script>\n",
              "  </div>\n",
              "\n",
              "\n",
              "<div id=\"df-b4482407-70b5-41ce-9e7d-c9b76f617a82\">\n",
              "  <button class=\"colab-df-quickchart\" onclick=\"quickchart('df-b4482407-70b5-41ce-9e7d-c9b76f617a82')\"\n",
              "            title=\"Suggest charts\"\n",
              "            style=\"display:none;\">\n",
              "\n",
              "<svg xmlns=\"http://www.w3.org/2000/svg\" height=\"24px\"viewBox=\"0 0 24 24\"\n",
              "     width=\"24px\">\n",
              "    <g>\n",
              "        <path d=\"M19 3H5c-1.1 0-2 .9-2 2v14c0 1.1.9 2 2 2h14c1.1 0 2-.9 2-2V5c0-1.1-.9-2-2-2zM9 17H7v-7h2v7zm4 0h-2V7h2v10zm4 0h-2v-4h2v4z\"/>\n",
              "    </g>\n",
              "</svg>\n",
              "  </button>\n",
              "\n",
              "<style>\n",
              "  .colab-df-quickchart {\n",
              "      --bg-color: #E8F0FE;\n",
              "      --fill-color: #1967D2;\n",
              "      --hover-bg-color: #E2EBFA;\n",
              "      --hover-fill-color: #174EA6;\n",
              "      --disabled-fill-color: #AAA;\n",
              "      --disabled-bg-color: #DDD;\n",
              "  }\n",
              "\n",
              "  [theme=dark] .colab-df-quickchart {\n",
              "      --bg-color: #3B4455;\n",
              "      --fill-color: #D2E3FC;\n",
              "      --hover-bg-color: #434B5C;\n",
              "      --hover-fill-color: #FFFFFF;\n",
              "      --disabled-bg-color: #3B4455;\n",
              "      --disabled-fill-color: #666;\n",
              "  }\n",
              "\n",
              "  .colab-df-quickchart {\n",
              "    background-color: var(--bg-color);\n",
              "    border: none;\n",
              "    border-radius: 50%;\n",
              "    cursor: pointer;\n",
              "    display: none;\n",
              "    fill: var(--fill-color);\n",
              "    height: 32px;\n",
              "    padding: 0;\n",
              "    width: 32px;\n",
              "  }\n",
              "\n",
              "  .colab-df-quickchart:hover {\n",
              "    background-color: var(--hover-bg-color);\n",
              "    box-shadow: 0 1px 2px rgba(60, 64, 67, 0.3), 0 1px 3px 1px rgba(60, 64, 67, 0.15);\n",
              "    fill: var(--button-hover-fill-color);\n",
              "  }\n",
              "\n",
              "  .colab-df-quickchart-complete:disabled,\n",
              "  .colab-df-quickchart-complete:disabled:hover {\n",
              "    background-color: var(--disabled-bg-color);\n",
              "    fill: var(--disabled-fill-color);\n",
              "    box-shadow: none;\n",
              "  }\n",
              "\n",
              "  .colab-df-spinner {\n",
              "    border: 2px solid var(--fill-color);\n",
              "    border-color: transparent;\n",
              "    border-bottom-color: var(--fill-color);\n",
              "    animation:\n",
              "      spin 1s steps(1) infinite;\n",
              "  }\n",
              "\n",
              "  @keyframes spin {\n",
              "    0% {\n",
              "      border-color: transparent;\n",
              "      border-bottom-color: var(--fill-color);\n",
              "      border-left-color: var(--fill-color);\n",
              "    }\n",
              "    20% {\n",
              "      border-color: transparent;\n",
              "      border-left-color: var(--fill-color);\n",
              "      border-top-color: var(--fill-color);\n",
              "    }\n",
              "    30% {\n",
              "      border-color: transparent;\n",
              "      border-left-color: var(--fill-color);\n",
              "      border-top-color: var(--fill-color);\n",
              "      border-right-color: var(--fill-color);\n",
              "    }\n",
              "    40% {\n",
              "      border-color: transparent;\n",
              "      border-right-color: var(--fill-color);\n",
              "      border-top-color: var(--fill-color);\n",
              "    }\n",
              "    60% {\n",
              "      border-color: transparent;\n",
              "      border-right-color: var(--fill-color);\n",
              "    }\n",
              "    80% {\n",
              "      border-color: transparent;\n",
              "      border-right-color: var(--fill-color);\n",
              "      border-bottom-color: var(--fill-color);\n",
              "    }\n",
              "    90% {\n",
              "      border-color: transparent;\n",
              "      border-bottom-color: var(--fill-color);\n",
              "    }\n",
              "  }\n",
              "</style>\n",
              "\n",
              "  <script>\n",
              "    async function quickchart(key) {\n",
              "      const quickchartButtonEl =\n",
              "        document.querySelector('#' + key + ' button');\n",
              "      quickchartButtonEl.disabled = true;  // To prevent multiple clicks.\n",
              "      quickchartButtonEl.classList.add('colab-df-spinner');\n",
              "      try {\n",
              "        const charts = await google.colab.kernel.invokeFunction(\n",
              "            'suggestCharts', [key], {});\n",
              "      } catch (error) {\n",
              "        console.error('Error during call to suggestCharts:', error);\n",
              "      }\n",
              "      quickchartButtonEl.classList.remove('colab-df-spinner');\n",
              "      quickchartButtonEl.classList.add('colab-df-quickchart-complete');\n",
              "    }\n",
              "    (() => {\n",
              "      let quickchartButtonEl =\n",
              "        document.querySelector('#df-b4482407-70b5-41ce-9e7d-c9b76f617a82 button');\n",
              "      quickchartButtonEl.style.display =\n",
              "        google.colab.kernel.accessAllowed ? 'block' : 'none';\n",
              "    })();\n",
              "  </script>\n",
              "</div>\n",
              "    </div>\n",
              "  </div>\n"
            ],
            "application/vnd.google.colaboratory.intrinsic+json": {
              "type": "dataframe",
              "variable_name": "pivot_table",
              "summary": "{\n  \"name\": \"pivot_table\",\n  \"rows\": 6,\n  \"fields\": [\n    {\n      \"column\": \"1\",\n      \"properties\": {\n        \"dtype\": \"timedelta64[ns]\",\n        \"num_unique_values\": 6,\n        \"samples\": [\n          \"1 days 03:01:36\",\n          \"0 days 12:28:26\",\n          \"0 days 01:06:19\"\n        ],\n        \"semantic_type\": \"\",\n        \"description\": \"\"\n      }\n    },\n    {\n      \"column\": \"2\",\n      \"properties\": {\n        \"dtype\": \"timedelta64[ns]\",\n        \"num_unique_values\": 6,\n        \"samples\": [\n          \"0 days 15:47:00\",\n          \"0 days 07:03:00\",\n          \"0 days 00:36:11.380000\"\n        ],\n        \"semantic_type\": \"\",\n        \"description\": \"\"\n      }\n    },\n    {\n      \"column\": \"4\",\n      \"properties\": {\n        \"dtype\": \"timedelta64[ns]\",\n        \"num_unique_values\": 6,\n        \"samples\": [\n          \"0 days 07:21:05\",\n          \"0 days 04:20:28\",\n          \"0 days 00:21:41.030000\"\n        ],\n        \"semantic_type\": \"\",\n        \"description\": \"\"\n      }\n    },\n    {\n      \"column\": \"8\",\n      \"properties\": {\n        \"dtype\": \"timedelta64[ns]\",\n        \"num_unique_values\": 6,\n        \"samples\": [\n          \"0 days 04:29:56\",\n          \"0 days 02:25:56\",\n          \"0 days 00:14:56.110000\"\n        ],\n        \"semantic_type\": \"\",\n        \"description\": \"\"\n      }\n    },\n    {\n      \"column\": \"16\",\n      \"properties\": {\n        \"dtype\": \"timedelta64[ns]\",\n        \"num_unique_values\": 6,\n        \"samples\": [\n          \"0 days 02:51:05\",\n          \"0 days 01:26:32\",\n          \"0 days 00:10:42.830000\"\n        ],\n        \"semantic_type\": \"\",\n        \"description\": \"\"\n      }\n    },\n    {\n      \"column\": \"32\",\n      \"properties\": {\n        \"dtype\": \"timedelta64[ns]\",\n        \"num_unique_values\": 6,\n        \"samples\": [\n          \"0 days 02:02:55\",\n          \"0 days 01:02:02\",\n          \"0 days 00:10:03.580000\"\n        ],\n        \"semantic_type\": \"\",\n        \"description\": \"\"\n      }\n    },\n    {\n      \"column\": \"64\",\n      \"properties\": {\n        \"dtype\": \"timedelta64[ns]\",\n        \"num_unique_values\": 6,\n        \"samples\": [\n          \"0 days 01:39:30\",\n          \"0 days 00:51:28.450000\",\n          \"0 days 00:13:30.140000\"\n        ],\n        \"semantic_type\": \"\",\n        \"description\": \"\"\n      }\n    },\n    {\n      \"column\": \"128\",\n      \"properties\": {\n        \"dtype\": \"timedelta64[ns]\",\n        \"num_unique_values\": 6,\n        \"samples\": [\n          \"0 days 01:29:12\",\n          \"0 days 00:45:53.540000\",\n          \"0 days 00:21:33.880000\"\n        ],\n        \"semantic_type\": \"\",\n        \"description\": \"\"\n      }\n    },\n    {\n      \"column\": \"256\",\n      \"properties\": {\n        \"dtype\": \"timedelta64[ns]\",\n        \"num_unique_values\": 6,\n        \"samples\": [\n          \"0 days 01:23:21\",\n          \"0 days 00:53:29.610000\",\n          \"0 days 00:34:33.780000\"\n        ],\n        \"semantic_type\": \"\",\n        \"description\": \"\"\n      }\n    },\n    {\n      \"column\": \"512\",\n      \"properties\": {\n        \"dtype\": \"timedelta64[ns]\",\n        \"num_unique_values\": 6,\n        \"samples\": [\n          \"0 days 01:19:44\",\n          \"0 days 00:45:56.110000\",\n          \"0 days 00:50:11.590000\"\n        ],\n        \"semantic_type\": \"\",\n        \"description\": \"\"\n      }\n    },\n    {\n      \"column\": \"1024\",\n      \"properties\": {\n        \"dtype\": \"timedelta64[ns]\",\n        \"num_unique_values\": 6,\n        \"samples\": [\n          \"0 days 01:16:05\",\n          \"0 days 01:15:20\",\n          \"0 days 01:24:15\"\n        ],\n        \"semantic_type\": \"\",\n        \"description\": \"\"\n      }\n    }\n  ]\n}"
            }
          },
          "metadata": {}
        }
      ],
      "source": [
        "df = pd.DataFrame([(k[0], k[1], median) for k, v in results.items() for median in [pd.Series(v).median()]],\n",
        "                  columns=['num_processes', 'batch_size', 'median_time'])\n",
        "pivot_table = df.pivot(index='num_processes', columns='batch_size', values='median_time')\n",
        "pivot_table = pivot_table.applymap(lambda x: pd.to_timedelta(x, unit='s'))\n",
        "pivot_table = pivot_table.sort_index(axis=0, key=lambda x: x.astype(int)).sort_index(axis=1, key=lambda x: x.astype(int))\n",
        "display(pivot_table)"
      ]
    },
    {
      "cell_type": "code",
      "execution_count": 7,
      "id": "2367f6dc-25ca-49bc-8193-334ee4a9cc88",
      "metadata": {
        "tags": [],
        "id": "2367f6dc-25ca-49bc-8193-334ee4a9cc88"
      },
      "outputs": [],
      "source": [
        "%%capture\n",
        "! pip install sympy"
      ]
    },
    {
      "cell_type": "code",
      "execution_count": 8,
      "id": "33fdc3ef-d702-4030-baf4-1a45ea65ab8a",
      "metadata": {
        "tags": [],
        "id": "33fdc3ef-d702-4030-baf4-1a45ea65ab8a"
      },
      "outputs": [],
      "source": [
        "from sympy import symbols, Eq, solve"
      ]
    },
    {
      "cell_type": "markdown",
      "id": "84aea1ca-d408-4097-8f3b-afc6b88baabc",
      "metadata": {
        "id": "84aea1ca-d408-4097-8f3b-afc6b88baabc"
      },
      "source": [
        "Next, we will determine the overhead of running tests for a single testfile:"
      ]
    },
    {
      "cell_type": "code",
      "execution_count": 9,
      "id": "f96f8837-8192-4b22-b880-8bc3c833b6e0",
      "metadata": {
        "id": "f96f8837-8192-4b22-b880-8bc3c833b6e0"
      },
      "outputs": [],
      "source": [
        "num_testfiles = 783\n",
        "no_batching_wall_time = pivot_table.loc['1', '1'].total_seconds()\n",
        "single_batch_wall_time = pivot_table.loc['1', '1024'].total_seconds()\n",
        "speed_up = no_batching_wall_time / single_batch_wall_time"
      ]
    },
    {
      "cell_type": "code",
      "execution_count": 10,
      "id": "4c69cf8d-adf6-46dd-ad4e-58189bf3e617",
      "metadata": {
        "tags": [],
        "id": "4c69cf8d-adf6-46dd-ad4e-58189bf3e617"
      },
      "outputs": [],
      "source": [
        "X, Y = symbols('X Y')\n",
        "eq1 = Eq(783 * (X + Y), no_batching_wall_time)\n",
        "eq2 = Eq(X + 783 * Y, single_batch_wall_time)\n",
        "solution = solve((eq1, eq2), (X, Y))"
      ]
    },
    {
      "cell_type": "code",
      "execution_count": 11,
      "id": "a28030bf-27e1-4292-aec0-071d84f773c0",
      "metadata": {
        "tags": [],
        "colab": {
          "base_uri": "https://localhost:8080/"
        },
        "id": "a28030bf-27e1-4292-aec0-071d84f773c0",
        "outputId": "4f644d69-7301-4d45-e86a-95ba38088e7e"
      },
      "outputs": [
        {
          "output_type": "stream",
          "name": "stdout",
          "text": [
            "Running tests for a median testfile takes 124 seconds out of which 119 seconds (95%) are overhead of loading TeX formats, packages, fonts, and other resources.\n",
            "Batching testfiles gives up to 21x speed-up by amortizing the overhead.\n"
          ]
        }
      ],
      "source": [
        "print(\n",
        "    f'Running tests for a median testfile takes {solution[X] + solution[Y]:.0f} seconds out of which {solution[X]:.0f} seconds '\n",
        "    f'({100 * solution[X] / (solution[X] + solution[Y]):.0f}%) are overhead of loading TeX formats, packages, fonts, and other resources.'\n",
        ")\n",
        "print(f'Batching testfiles gives up to {speed_up:.0f}x speed-up by amortizing the overhead.')"
      ]
    },
    {
      "cell_type": "markdown",
      "id": "56ab31dc-0a2f-4ba4-9607-103a7dc37929",
      "metadata": {
        "id": "56ab31dc-0a2f-4ba4-9607-103a7dc37929"
      },
      "source": [
        "Finally, we will plot the wall times for the different sets of parameters."
      ]
    },
    {
      "cell_type": "code",
      "execution_count": 12,
      "id": "94b0fd11-f977-4207-a7b0-ab1c782cc07a",
      "metadata": {
        "id": "94b0fd11-f977-4207-a7b0-ab1c782cc07a"
      },
      "outputs": [],
      "source": [
        "%%capture\n",
        "! pip install matplotlib"
      ]
    },
    {
      "cell_type": "code",
      "execution_count": 13,
      "id": "b0647402-aaf0-40dd-853a-a4f350e70522",
      "metadata": {
        "id": "b0647402-aaf0-40dd-853a-a4f350e70522"
      },
      "outputs": [],
      "source": [
        "import matplotlib.pyplot as plt"
      ]
    },
    {
      "cell_type": "code",
      "execution_count": 14,
      "id": "3668d74d-421e-4a23-b952-b21083a2a21b",
      "metadata": {
        "tags": [],
        "colab": {
          "base_uri": "https://localhost:8080/",
          "height": 495
        },
        "id": "3668d74d-421e-4a23-b952-b21083a2a21b",
        "outputId": "8121e01f-d9c2-4a80-b22f-7686131cda6c"
      },
      "outputs": [
        {
          "output_type": "display_data",
          "data": {
            "text/plain": [
              "<Figure size 640x500 with 1 Axes>"
            ],
            "image/png": "[encoded data removed]"
          },
          "metadata": {}
        }
      ],
      "source": [
        "plt.figure(figsize=(6.4, 5))\n",
        "\n",
        "markers = ['o', 's', '^', 'd', 'p', '*', 'x', '+', 'v', '<', '>', '|', '_']\n",
        "batch_sizes = pivot_table.columns\n",
        "for marker, num_processes in zip(markers, pivot_table.index):\n",
        "    median_hours = [timedelta.total_seconds() / 3600 for timedelta in pivot_table.loc[num_processes]]\n",
        "    label = f'{num_processes} CPU{\"s\" if int(num_processes) > 1 else \"\"}'\n",
        "    plt.plot(batch_sizes, median_hours, label=label, marker=marker)\n",
        "\n",
        "plt.xlabel('Batch size', fontsize=12)\n",
        "plt.ylabel('Median time', fontsize=12)\n",
        "plt.yscale('log')\n",
        "plt.xticks(batch_sizes, fontsize=12)\n",
        "plt.yticks([1/6, 0.25, 0.5, 1, 2, 4, 8, 16, 32], ['10m', '15m', '30m', '1h', '2h', '4h', '8h', '16h', '32h'], fontsize=12)\n",
        "plt.title('Median Time vs. Batch Size for Different Numbers of CPUs')\n",
        "plt.legend(fontsize=12)\n",
        "plt.grid(True)\n",
        "_ = plt.savefig('speed-tests.pdf', dpi=600)"
      ]
    }
  ],
  "metadata": {
    "kernelspec": {
      "display_name": "Python 3 (ipykernel)",
      "language": "python",
      "name": "python3"
    },
    "language_info": {
      "codemirror_mode": {
        "name": "ipython",
        "version": 3
      },
      "file_extension": ".py",
      "mimetype": "text/x-python",
      "name": "python",
      "nbconvert_exporter": "python",
      "pygments_lexer": "ipython3",
      "version": "3.7.3"
    },
    "colab": {
      "provenance": []
    }
  },
  "nbformat": 4,
  "nbformat_minor": 5
}